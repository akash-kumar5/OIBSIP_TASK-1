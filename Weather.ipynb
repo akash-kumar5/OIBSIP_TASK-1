{
 "cells": [
  {
   "cell_type": "code",
   "execution_count": 12,
   "metadata": {},
   "outputs": [
    {
     "name": "stdout",
     "output_type": "stream",
     "text": [
      "Basic Weather App\n",
      "-----------------\n",
      "\n",
      "Current Weather:\n",
      "Temperature: 30.14°C\n",
      "Humidity: 25%\n",
      "Weather Conditions: overcast clouds\n"
     ]
    }
   ],
   "source": [
    "import requests\n",
    "\n",
    "def get_weather(api_key, location):\n",
    "    \"\"\"\n",
    "    Get current weather data for a specified location using OpenWeatherMap API.\n",
    "    \"\"\"\n",
    "    base_url = \"http://api.openweathermap.org/data/2.5/weather\"\n",
    "    params = {\n",
    "        \"q\": location,\n",
    "        \"appid\": api_key,\n",
    "        \"units\": \"metric\"  # Use \"imperial\" for Fahrenheit\n",
    "    }\n",
    "\n",
    "    try:\n",
    "        response = requests.get(base_url, params=params)\n",
    "        data = response.json()\n",
    "\n",
    "        if response.status_code == 200:\n",
    "            return data\n",
    "        else:\n",
    "            print(f\"Error: {data['message']}\")\n",
    "            return None\n",
    "    except Exception as e:\n",
    "        print(f\"Error: {e}\")\n",
    "        return None\n",
    "\n",
    "def display_weather(weather_data):\n",
    "    \"\"\"\n",
    "    Display basic weather information.\n",
    "    \"\"\"\n",
    "    if weather_data:\n",
    "        print(\"\\nCurrent Weather:\")\n",
    "        print(f\"Temperature: {weather_data['main']['temp']}°C\")\n",
    "        print(f\"Humidity: {weather_data['main']['humidity']}%\")\n",
    "        print(f\"Weather Conditions: {weather_data['weather'][0]['description']}\")\n",
    "    else:\n",
    "        print(\"Unable to fetch weather data.\")\n",
    "\n",
    "def main():\n",
    "    print(\"Basic Weather App\")\n",
    "    print(\"-----------------\")\n",
    "\n",
    "    # Input your OpenWeatherMap API key here\n",
    "    api_key = \"92ac606d0fb4ac2f39fe865bfa4e4cf0\"\n",
    "\n",
    "    # Get user input for location\n",
    "    location = input(\"Enter the city or ZIP code: \")\n",
    "\n",
    "    # Get weather data\n",
    "    weather_data = get_weather(api_key, location)\n",
    "\n",
    "    # Display weather information\n",
    "    display_weather(weather_data)\n",
    "\n",
    "if __name__ == \"__main__\":\n",
    "    main()\n"
   ]
  }
 ],
 "metadata": {
  "kernelspec": {
   "display_name": "Python 3",
   "language": "python",
   "name": "python3"
  },
  "language_info": {
   "codemirror_mode": {
    "name": "ipython",
    "version": 3
   },
   "file_extension": ".py",
   "mimetype": "text/x-python",
   "name": "python",
   "nbconvert_exporter": "python",
   "pygments_lexer": "ipython3",
   "version": "3.12.0"
  }
 },
 "nbformat": 4,
 "nbformat_minor": 2
}
